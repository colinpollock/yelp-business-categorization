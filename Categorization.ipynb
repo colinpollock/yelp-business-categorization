{
 "cells": [
  {
   "cell_type": "code",
   "execution_count": 1,
   "metadata": {},
   "outputs": [],
   "source": [
    "%matplotlib inline\n",
    "\n",
    "%load_ext autoreload\n",
    "%autoreload 2"
   ]
  },
  {
   "cell_type": "code",
   "execution_count": 2,
   "metadata": {},
   "outputs": [],
   "source": [
    "from sklearn.model_selection import train_test_split\n",
    "\n",
    "from categorization import data\n",
    "from categorization.featurization import SequenceFeaturizer, TfidfBowFeaturizer\n",
    "from categorization.evaluation import experiment, model_experiment\n",
    "from categorization.model import DenseTextualModel, RnnTextualModel, SimpleLrBow"
   ]
  },
  {
   "cell_type": "markdown",
   "metadata": {},
   "source": [
    "## Build the Train and Validation Datasets"
   ]
  },
  {
   "cell_type": "code",
   "execution_count": 3,
   "metadata": {},
   "outputs": [
    {
     "data": {
      "text/plain": [
       "158525"
      ]
     },
     "execution_count": 3,
     "metadata": {},
     "output_type": "execute_result"
    }
   ],
   "source": [
    "businesses = data.load_business_df()\n",
    "len(businesses)"
   ]
  },
  {
   "cell_type": "code",
   "execution_count": 4,
   "metadata": {},
   "outputs": [
    {
     "data": {
      "text/html": [
       "<div>\n",
       "<style scoped>\n",
       "    .dataframe tbody tr th:only-of-type {\n",
       "        vertical-align: middle;\n",
       "    }\n",
       "\n",
       "    .dataframe tbody tr th {\n",
       "        vertical-align: top;\n",
       "    }\n",
       "\n",
       "    .dataframe thead th {\n",
       "        text-align: right;\n",
       "    }\n",
       "</style>\n",
       "<table border=\"1\" class=\"dataframe\">\n",
       "  <thead>\n",
       "    <tr style=\"text-align: right;\">\n",
       "      <th></th>\n",
       "      <th>business_id</th>\n",
       "      <th>business_name</th>\n",
       "      <th>review_count</th>\n",
       "      <th>stars</th>\n",
       "      <th>state</th>\n",
       "      <th>city</th>\n",
       "      <th>categories</th>\n",
       "    </tr>\n",
       "  </thead>\n",
       "  <tbody>\n",
       "    <tr>\n",
       "      <th>0</th>\n",
       "      <td>QXAEGFB4oINsVuTFxEYKFQ</td>\n",
       "      <td>Emerald Chinese Restaurant</td>\n",
       "      <td>128</td>\n",
       "      <td>2.5</td>\n",
       "      <td>ON</td>\n",
       "      <td>Mississauga</td>\n",
       "      <td>[Specialty Food, Restaurants, Dim Sum, Importe...</td>\n",
       "    </tr>\n",
       "    <tr>\n",
       "      <th>1</th>\n",
       "      <td>gnKjwL_1w79qoiV3IC_xQQ</td>\n",
       "      <td>Musashi Japanese Restaurant</td>\n",
       "      <td>170</td>\n",
       "      <td>4.0</td>\n",
       "      <td>NC</td>\n",
       "      <td>Charlotte</td>\n",
       "      <td>[Sushi Bars, Restaurants, Japanese]</td>\n",
       "    </tr>\n",
       "    <tr>\n",
       "      <th>2</th>\n",
       "      <td>xvX2CttrVhyG2z1dFg_0xw</td>\n",
       "      <td>Farmers Insurance - Paul Lorenz</td>\n",
       "      <td>3</td>\n",
       "      <td>5.0</td>\n",
       "      <td>AZ</td>\n",
       "      <td>Goodyear</td>\n",
       "      <td>[Insurance, Financial Services]</td>\n",
       "    </tr>\n",
       "    <tr>\n",
       "      <th>3</th>\n",
       "      <td>HhyxOkGAM07SRYtlQ4wMFQ</td>\n",
       "      <td>Queen City Plumbing</td>\n",
       "      <td>4</td>\n",
       "      <td>4.0</td>\n",
       "      <td>NC</td>\n",
       "      <td>Charlotte</td>\n",
       "      <td>[Plumbing, Shopping, Local Services, Home Serv...</td>\n",
       "    </tr>\n",
       "    <tr>\n",
       "      <th>4</th>\n",
       "      <td>68dUKd8_8liJ7in4aWOSEA</td>\n",
       "      <td>The UPS Store</td>\n",
       "      <td>3</td>\n",
       "      <td>2.5</td>\n",
       "      <td>ON</td>\n",
       "      <td>Mississauga</td>\n",
       "      <td>[Shipping Centers, Couriers &amp; Delivery Service...</td>\n",
       "    </tr>\n",
       "  </tbody>\n",
       "</table>\n",
       "</div>"
      ],
      "text/plain": [
       "              business_id                    business_name  review_count  \\\n",
       "0  QXAEGFB4oINsVuTFxEYKFQ       Emerald Chinese Restaurant           128   \n",
       "1  gnKjwL_1w79qoiV3IC_xQQ      Musashi Japanese Restaurant           170   \n",
       "2  xvX2CttrVhyG2z1dFg_0xw  Farmers Insurance - Paul Lorenz             3   \n",
       "3  HhyxOkGAM07SRYtlQ4wMFQ              Queen City Plumbing             4   \n",
       "4  68dUKd8_8liJ7in4aWOSEA                    The UPS Store             3   \n",
       "\n",
       "   stars state         city                                         categories  \n",
       "0    2.5    ON  Mississauga  [Specialty Food, Restaurants, Dim Sum, Importe...  \n",
       "1    4.0    NC    Charlotte                [Sushi Bars, Restaurants, Japanese]  \n",
       "2    5.0    AZ     Goodyear                    [Insurance, Financial Services]  \n",
       "3    4.0    NC    Charlotte  [Plumbing, Shopping, Local Services, Home Serv...  \n",
       "4    2.5    ON  Mississauga  [Shipping Centers, Couriers & Delivery Service...  "
      ]
     },
     "execution_count": 4,
     "metadata": {},
     "output_type": "execute_result"
    }
   ],
   "source": [
    "businesses.head()"
   ]
  },
  {
   "cell_type": "code",
   "execution_count": 5,
   "metadata": {},
   "outputs": [],
   "source": [
    "pen_businesses = businesses[businesses.state == 'PA']"
   ]
  },
  {
   "cell_type": "code",
   "execution_count": 6,
   "metadata": {},
   "outputs": [
    {
     "data": {
      "text/html": [
       "<div>\n",
       "<style scoped>\n",
       "    .dataframe tbody tr th:only-of-type {\n",
       "        vertical-align: middle;\n",
       "    }\n",
       "\n",
       "    .dataframe tbody tr th {\n",
       "        vertical-align: top;\n",
       "    }\n",
       "\n",
       "    .dataframe thead th {\n",
       "        text-align: right;\n",
       "    }\n",
       "</style>\n",
       "<table border=\"1\" class=\"dataframe\">\n",
       "  <thead>\n",
       "    <tr style=\"text-align: right;\">\n",
       "      <th></th>\n",
       "      <th>business_id</th>\n",
       "      <th>business_name</th>\n",
       "      <th>review_count</th>\n",
       "      <th>stars</th>\n",
       "      <th>state</th>\n",
       "      <th>city</th>\n",
       "      <th>categories</th>\n",
       "    </tr>\n",
       "  </thead>\n",
       "  <tbody>\n",
       "    <tr>\n",
       "      <th>20</th>\n",
       "      <td>1RHY4K3BD22FK7Cfftn8Mg</td>\n",
       "      <td>Marathon Diner</td>\n",
       "      <td>35</td>\n",
       "      <td>4.0</td>\n",
       "      <td>PA</td>\n",
       "      <td>Pittsburgh</td>\n",
       "      <td>[Sandwiches, Salad, Restaurants, Burgers, Comf...</td>\n",
       "    </tr>\n",
       "    <tr>\n",
       "      <th>43</th>\n",
       "      <td>qWWBVE5T_zMEF7UJ4iTfNw</td>\n",
       "      <td>DJ Yonish, Inc.</td>\n",
       "      <td>3</td>\n",
       "      <td>2.5</td>\n",
       "      <td>PA</td>\n",
       "      <td>Bethel Park</td>\n",
       "      <td>[Home Services, Heating &amp; Air Conditioning/HVAC]</td>\n",
       "    </tr>\n",
       "    <tr>\n",
       "      <th>51</th>\n",
       "      <td>dQj5DLZjeDK3KFysh1SYOQ</td>\n",
       "      <td>Apteka</td>\n",
       "      <td>242</td>\n",
       "      <td>4.5</td>\n",
       "      <td>PA</td>\n",
       "      <td>Pittsburgh</td>\n",
       "      <td>[Nightlife, Bars, Polish, Modern European, Res...</td>\n",
       "    </tr>\n",
       "    <tr>\n",
       "      <th>58</th>\n",
       "      <td>v-scZMU6jhnmV955RSzGJw</td>\n",
       "      <td>No. 1 Sushi Sushi</td>\n",
       "      <td>106</td>\n",
       "      <td>4.5</td>\n",
       "      <td>PA</td>\n",
       "      <td>Pittsburgh</td>\n",
       "      <td>[Japanese, Sushi Bars, Restaurants]</td>\n",
       "    </tr>\n",
       "    <tr>\n",
       "      <th>61</th>\n",
       "      <td>KFbUQ-RR2UOV62Ep7WnXHw</td>\n",
       "      <td>Westwood Bar &amp; Grill</td>\n",
       "      <td>5</td>\n",
       "      <td>3.0</td>\n",
       "      <td>PA</td>\n",
       "      <td>West Mifflin</td>\n",
       "      <td>[American (Traditional), Restaurants]</td>\n",
       "    </tr>\n",
       "  </tbody>\n",
       "</table>\n",
       "</div>"
      ],
      "text/plain": [
       "               business_id         business_name  review_count  stars state  \\\n",
       "20  1RHY4K3BD22FK7Cfftn8Mg        Marathon Diner            35    4.0    PA   \n",
       "43  qWWBVE5T_zMEF7UJ4iTfNw       DJ Yonish, Inc.             3    2.5    PA   \n",
       "51  dQj5DLZjeDK3KFysh1SYOQ                Apteka           242    4.5    PA   \n",
       "58  v-scZMU6jhnmV955RSzGJw     No. 1 Sushi Sushi           106    4.5    PA   \n",
       "61  KFbUQ-RR2UOV62Ep7WnXHw  Westwood Bar & Grill             5    3.0    PA   \n",
       "\n",
       "            city                                         categories  \n",
       "20    Pittsburgh  [Sandwiches, Salad, Restaurants, Burgers, Comf...  \n",
       "43   Bethel Park   [Home Services, Heating & Air Conditioning/HVAC]  \n",
       "51    Pittsburgh  [Nightlife, Bars, Polish, Modern European, Res...  \n",
       "58    Pittsburgh                [Japanese, Sushi Bars, Restaurants]  \n",
       "61  West Mifflin              [American (Traditional), Restaurants]  "
      ]
     },
     "execution_count": 6,
     "metadata": {},
     "output_type": "execute_result"
    }
   ],
   "source": [
    "pen_businesses.head()"
   ]
  },
  {
   "cell_type": "code",
   "execution_count": 7,
   "metadata": {},
   "outputs": [],
   "source": [
    "root_categories = data.CategoryTree().root_categories"
   ]
  },
  {
   "cell_type": "code",
   "execution_count": 8,
   "metadata": {},
   "outputs": [
    {
     "name": "stdout",
     "output_type": "stream",
     "text": [
      "CPU times: user 1min 7s, sys: 4.39 s, total: 1min 11s\n",
      "Wall time: 1min 14s\n"
     ]
    },
    {
     "data": {
      "text/plain": [
       "(6207, 6207)"
      ]
     },
     "execution_count": 8,
     "metadata": {},
     "output_type": "execute_result"
    }
   ],
   "source": [
    "%%time\n",
    "\n",
    "examples, labels = data.load_examples(\n",
    "    set(pen_businesses.business_id.unique()),\n",
    "    accepted_categories=root_categories,\n",
    "    reviews_per_business=1\n",
    ")\n",
    "\n",
    "len(examples), len(labels)"
   ]
  },
  {
   "cell_type": "code",
   "execution_count": 9,
   "metadata": {},
   "outputs": [
    {
     "data": {
      "text/plain": [
       "(4965, 4965, 1242, 1242)"
      ]
     },
     "execution_count": 9,
     "metadata": {},
     "output_type": "execute_result"
    }
   ],
   "source": [
    "train_examples, validation_examples, train_labels, validation_labels = \\\n",
    "    train_test_split(examples, labels, test_size=.2)\n",
    "\n",
    "len(train_examples), len(train_labels), len(validation_examples), len(validation_labels)"
   ]
  },
  {
   "cell_type": "markdown",
   "metadata": {},
   "source": [
    "## Models"
   ]
  },
  {
   "cell_type": "code",
   "execution_count": 11,
   "metadata": {
    "scrolled": false
   },
   "outputs": [
    {
     "name": "stdout",
     "output_type": "stream",
     "text": [
      "                              precision    recall  f1-score   support\n",
      "\n",
      "                 Active Life       1.00      1.00      1.00       222\n",
      "        Arts & Entertainment       1.00      1.00      1.00        53\n",
      "                  Automotive       1.00      1.00      1.00       476\n",
      "               Beauty & Spas       1.00      1.00      1.00       509\n",
      "                   Education       1.00      1.00      1.00        17\n",
      "   Event Planning & Services       1.00      1.00      1.00        47\n",
      "          Financial Services       1.00      1.00      1.00        29\n",
      "                        Food       1.00      1.00      1.00       459\n",
      "            Health & Medical       1.00      1.00      1.00       328\n",
      "               Home Services       1.00      1.00      1.00       363\n",
      "             Hotels & Travel       1.00      1.00      1.00        76\n",
      "                Local Flavor       1.00      1.00      1.00        11\n",
      "              Local Services       1.00      1.00      1.00       144\n",
      "                  Mass Media       1.00      1.00      1.00         8\n",
      "                   Nightlife       1.00      1.00      1.00        90\n",
      "                        Pets       1.00      1.00      1.00       181\n",
      "       Professional Services       1.00      1.00      1.00        30\n",
      "Public Services & Government       1.00      1.00      1.00        34\n",
      "     Religious Organizations       1.00      1.00      1.00        22\n",
      "                 Restaurants       1.00      1.00      1.00      1260\n",
      "                    Shopping       1.00      1.00      1.00       606\n",
      "\n",
      "                    accuracy                           1.00      4965\n",
      "                   macro avg       1.00      1.00      1.00      4965\n",
      "                weighted avg       1.00      1.00      1.00      4965\n",
      "\n",
      "                              precision    recall  f1-score   support\n",
      "\n",
      "                 Active Life       0.71      0.90      0.80        41\n",
      "        Arts & Entertainment       0.53      0.50      0.52        16\n",
      "                  Automotive       0.89      0.93      0.91       116\n",
      "               Beauty & Spas       0.93      0.94      0.94       131\n",
      "                   Education       0.67      0.33      0.44         6\n",
      "   Event Planning & Services       0.79      0.50      0.61        22\n",
      "          Financial Services       0.78      0.78      0.78         9\n",
      "                        Food       0.85      0.81      0.83       109\n",
      "            Health & Medical       0.86      0.95      0.90        74\n",
      "               Home Services       0.70      0.82      0.76        83\n",
      "             Hotels & Travel       0.76      0.93      0.84        14\n",
      "                Local Flavor       0.20      1.00      0.33         1\n",
      "              Local Services       0.78      0.60      0.67        47\n",
      "                  Mass Media       0.00      0.00      0.00         2\n",
      "                   Nightlife       0.48      0.39      0.43        28\n",
      "                        Pets       0.89      0.93      0.91        42\n",
      "       Professional Services       0.50      0.27      0.35        11\n",
      "Public Services & Government       0.50      0.44      0.47         9\n",
      "     Religious Organizations       0.83      0.71      0.77         7\n",
      "                 Restaurants       0.91      0.92      0.91       319\n",
      "                    Shopping       0.87      0.81      0.84       155\n",
      "\n",
      "                    accuracy                           0.84      1242\n",
      "                   macro avg       0.69      0.69      0.67      1242\n",
      "                weighted avg       0.84      0.84      0.84      1242\n",
      "\n",
      "CPU times: user 5min 16s, sys: 4.33 s, total: 5min 20s\n",
      "Wall time: 5min 23s\n"
     ]
    }
   ],
   "source": [
    "%%time\n",
    "\n",
    "exp = experiment(\n",
    "    TfidfBowFeaturizer(),\n",
    "    SimpleLrBow(),\n",
    "    train_examples,\n",
    "    train_labels,\n",
    "    validation_examples,\n",
    "    validation_labels\n",
    ")"
   ]
  },
  {
   "cell_type": "code",
   "execution_count": 12,
   "metadata": {},
   "outputs": [
    {
     "name": "stdout",
     "output_type": "stream",
     "text": [
      "Beauty & Spas\t|\tPets\t|\tSupercuts\t|\tAs I sit in my car t\n",
      "Beauty & Spas\t|\tFood\t|\tLacquered Up\t|\tWell, the artists ar\n",
      "Beauty & Spas\t|\tHealth & Medical\t|\tShao Ping He Chinese Massage Therapy\t|\tNo frills, just a go\n",
      "Beauty & Spas\t|\tFood\t|\tBath & Body Works\t|\tI stopped in to purc\n",
      "Beauty & Spas\t|\tHealth & Medical\t|\tNatural Choice\t|\tI have been to many \n",
      "Beauty & Spas\t|\tShopping\t|\tSugar Spa and Beauty Bar\t|\tWonderful ambiance a\n",
      "Beauty & Spas\t|\tHealth & Medical\t|\tMassage a La Carter\t|\tI had upper back pai\n",
      "Beauty & Spas\t|\tHome Services\t|\tCarson Street Tattoo\t|\tAwesome place! Zack \n"
     ]
    }
   ],
   "source": [
    "for eg in exp.errors_for_label('Beauty & Spas', False)['fn']:\n",
    "    print('\\t|\\t'.join([eg.label, eg.prediction, eg.example.business_name, eg.example.review.text[:20]]))"
   ]
  },
  {
   "cell_type": "code",
   "execution_count": null,
   "metadata": {},
   "outputs": [],
   "source": [
    "# dense_experiment = model_experiment(\n",
    "#     featurizer,\n",
    "#     DenseTextualModel(\n",
    "#         vocab_size=vocab_size, input_length=input_length,\n",
    "#         embedding_dimension=50, hidden_dimension=50, num_classes=NUM_CLASSES,\n",
    "#         learning_rate=0.01, epochs=1, batch_size=256\n",
    "#     ),\n",
    "#     labelizer,\n",
    "#     train_features,\n",
    "#     train_label_sets, validation_features, validation_label_sets, \n",
    "# )\n",
    "\n",
    "# rnn_experiment = model_experiment(\n",
    "#     featurizer,\n",
    "#     RnnTextualModel(\n",
    "#         vocab_size=vocab_size, input_length=input_length,\n",
    "#         embedding_dimension=100, rnn_dimension=100, num_classes=NUM_CLASSES,\n",
    "#         learning_rate=0.001, epochs=200, batch_size=512\n",
    "#     ),\n",
    "#     labelizer,\n",
    "#     train_features,\n",
    "#     train_label_sets, validation_features, validation_label_sets, \n",
    "# )"
   ]
  }
 ],
 "metadata": {
  "kernelspec": {
   "display_name": "Python 3",
   "language": "python",
   "name": "python3"
  },
  "language_info": {
   "codemirror_mode": {
    "name": "ipython",
    "version": 3
   },
   "file_extension": ".py",
   "mimetype": "text/x-python",
   "name": "python",
   "nbconvert_exporter": "python",
   "pygments_lexer": "ipython3",
   "version": "3.7.4"
  }
 },
 "nbformat": 4,
 "nbformat_minor": 2
}
