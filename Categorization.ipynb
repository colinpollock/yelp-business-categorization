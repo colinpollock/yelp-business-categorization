{
 "cells": [
  {
   "cell_type": "code",
   "execution_count": 1,
   "metadata": {},
   "outputs": [],
   "source": [
    "%matplotlib inline\n",
    "\n",
    "%load_ext autoreload\n",
    "%autoreload 2"
   ]
  },
  {
   "cell_type": "code",
   "execution_count": 2,
   "metadata": {},
   "outputs": [],
   "source": [
    "from collections import Counter\n",
    "\n",
    "import pandas as pd\n",
    "from sklearn.model_selection import train_test_split\n",
    "from sklearn.preprocessing import MultiLabelBinarizer\n",
    "from tensorflow import keras as K\n",
    "\n",
    "from categorization import data\n",
    "from categorization.featurization import NameAndReviewTextFeaturizer\n",
    "from categorization.evaluation import experiment, model_experiment, evaluate_model\n",
    "from categorization.model import DenseTextualModel, RnnTextualModel"
   ]
  },
  {
   "cell_type": "markdown",
   "metadata": {},
   "source": [
    "## Build the Train and Validation Datasets"
   ]
  },
  {
   "cell_type": "code",
   "execution_count": 3,
   "metadata": {},
   "outputs": [
    {
     "data": {
      "text/plain": [
       "158525"
      ]
     },
     "execution_count": 3,
     "metadata": {},
     "output_type": "execute_result"
    }
   ],
   "source": [
    "businesses = data.load_business_df()\n",
    "len(businesses)"
   ]
  },
  {
   "cell_type": "code",
   "execution_count": 4,
   "metadata": {},
   "outputs": [],
   "source": [
    "pen_businesses = businesses[businesses.state == 'PA']"
   ]
  },
  {
   "cell_type": "code",
   "execution_count": 5,
   "metadata": {},
   "outputs": [
    {
     "data": {
      "text/html": [
       "<div>\n",
       "<style scoped>\n",
       "    .dataframe tbody tr th:only-of-type {\n",
       "        vertical-align: middle;\n",
       "    }\n",
       "\n",
       "    .dataframe tbody tr th {\n",
       "        vertical-align: top;\n",
       "    }\n",
       "\n",
       "    .dataframe thead th {\n",
       "        text-align: right;\n",
       "    }\n",
       "</style>\n",
       "<table border=\"1\" class=\"dataframe\">\n",
       "  <thead>\n",
       "    <tr style=\"text-align: right;\">\n",
       "      <th></th>\n",
       "      <th>business_id</th>\n",
       "      <th>business_name</th>\n",
       "      <th>review_count</th>\n",
       "      <th>stars</th>\n",
       "      <th>state</th>\n",
       "      <th>city</th>\n",
       "      <th>categories</th>\n",
       "    </tr>\n",
       "  </thead>\n",
       "  <tbody>\n",
       "    <tr>\n",
       "      <th>20</th>\n",
       "      <td>1RHY4K3BD22FK7Cfftn8Mg</td>\n",
       "      <td>Marathon Diner</td>\n",
       "      <td>35</td>\n",
       "      <td>4.0</td>\n",
       "      <td>PA</td>\n",
       "      <td>Pittsburgh</td>\n",
       "      <td>[Sandwiches, Salad, Restaurants, Burgers, Comf...</td>\n",
       "    </tr>\n",
       "    <tr>\n",
       "      <th>43</th>\n",
       "      <td>qWWBVE5T_zMEF7UJ4iTfNw</td>\n",
       "      <td>DJ Yonish, Inc.</td>\n",
       "      <td>3</td>\n",
       "      <td>2.5</td>\n",
       "      <td>PA</td>\n",
       "      <td>Bethel Park</td>\n",
       "      <td>[Home Services, Heating &amp; Air Conditioning/HVAC]</td>\n",
       "    </tr>\n",
       "    <tr>\n",
       "      <th>51</th>\n",
       "      <td>dQj5DLZjeDK3KFysh1SYOQ</td>\n",
       "      <td>Apteka</td>\n",
       "      <td>242</td>\n",
       "      <td>4.5</td>\n",
       "      <td>PA</td>\n",
       "      <td>Pittsburgh</td>\n",
       "      <td>[Nightlife, Bars, Polish, Modern European, Res...</td>\n",
       "    </tr>\n",
       "    <tr>\n",
       "      <th>58</th>\n",
       "      <td>v-scZMU6jhnmV955RSzGJw</td>\n",
       "      <td>No. 1 Sushi Sushi</td>\n",
       "      <td>106</td>\n",
       "      <td>4.5</td>\n",
       "      <td>PA</td>\n",
       "      <td>Pittsburgh</td>\n",
       "      <td>[Japanese, Sushi Bars, Restaurants]</td>\n",
       "    </tr>\n",
       "    <tr>\n",
       "      <th>61</th>\n",
       "      <td>KFbUQ-RR2UOV62Ep7WnXHw</td>\n",
       "      <td>Westwood Bar &amp; Grill</td>\n",
       "      <td>5</td>\n",
       "      <td>3.0</td>\n",
       "      <td>PA</td>\n",
       "      <td>West Mifflin</td>\n",
       "      <td>[American (Traditional), Restaurants]</td>\n",
       "    </tr>\n",
       "  </tbody>\n",
       "</table>\n",
       "</div>"
      ],
      "text/plain": [
       "               business_id         business_name  review_count  stars state  \\\n",
       "20  1RHY4K3BD22FK7Cfftn8Mg        Marathon Diner            35    4.0    PA   \n",
       "43  qWWBVE5T_zMEF7UJ4iTfNw       DJ Yonish, Inc.             3    2.5    PA   \n",
       "51  dQj5DLZjeDK3KFysh1SYOQ                Apteka           242    4.5    PA   \n",
       "58  v-scZMU6jhnmV955RSzGJw     No. 1 Sushi Sushi           106    4.5    PA   \n",
       "61  KFbUQ-RR2UOV62Ep7WnXHw  Westwood Bar & Grill             5    3.0    PA   \n",
       "\n",
       "            city                                         categories  \n",
       "20    Pittsburgh  [Sandwiches, Salad, Restaurants, Burgers, Comf...  \n",
       "43   Bethel Park   [Home Services, Heating & Air Conditioning/HVAC]  \n",
       "51    Pittsburgh  [Nightlife, Bars, Polish, Modern European, Res...  \n",
       "58    Pittsburgh                [Japanese, Sushi Bars, Restaurants]  \n",
       "61  West Mifflin              [American (Traditional), Restaurants]  "
      ]
     },
     "execution_count": 5,
     "metadata": {},
     "output_type": "execute_result"
    }
   ],
   "source": [
    "pen_businesses.head()"
   ]
  },
  {
   "cell_type": "code",
   "execution_count": 6,
   "metadata": {},
   "outputs": [],
   "source": [
    "root_categories = data.CategoryTree().root_categories"
   ]
  },
  {
   "cell_type": "code",
   "execution_count": 7,
   "metadata": {},
   "outputs": [
    {
     "data": {
      "text/plain": [
       "(9411, 9411)"
      ]
     },
     "execution_count": 7,
     "metadata": {},
     "output_type": "execute_result"
    }
   ],
   "source": [
    "examples, label_sets = data.load_examples(\n",
    "    set(pen_businesses.business_id.unique()),\n",
    "    min_reviews=1,\n",
    "    accepted_categories=root_categories,\n",
    ")\n",
    "\n",
    "len(examples), len(label_sets)"
   ]
  },
  {
   "cell_type": "code",
   "execution_count": 8,
   "metadata": {},
   "outputs": [
    {
     "data": {
      "text/plain": [
       "(7528, 7528, 1883, 1883)"
      ]
     },
     "execution_count": 8,
     "metadata": {},
     "output_type": "execute_result"
    }
   ],
   "source": [
    "train_examples, validation_examples, train_label_sets, validation_label_sets = \\\n",
    "    train_test_split(examples, label_sets, test_size=.2)\n",
    "\n",
    "len(train_examples), len(train_label_sets), len(validation_examples), len(validation_label_sets)"
   ]
  },
  {
   "cell_type": "markdown",
   "metadata": {},
   "source": [
    "## Models"
   ]
  },
  {
   "cell_type": "code",
   "execution_count": 9,
   "metadata": {},
   "outputs": [],
   "source": [
    "labelizer = MultiLabelBinarizer()\n",
    "labelizer.fit(train_label_sets)\n",
    "\n",
    "\n",
    "NUM_CLASSES = len({label for labels in label_sets for label in labels})"
   ]
  },
  {
   "cell_type": "code",
   "execution_count": 10,
   "metadata": {},
   "outputs": [
    {
     "name": "stdout",
     "output_type": "stream",
     "text": [
      "Epoch 1/10\n",
      "30/30 [==============================] - 13s 444ms/step - loss: 0.3655 - accuracy: 0.0878 - val_loss: 0.2205 - val_accuracy: 0.1726\n",
      "Epoch 2/10\n",
      "30/30 [==============================] - 13s 437ms/step - loss: 0.2148 - accuracy: 0.1668 - val_loss: 0.2094 - val_accuracy: 0.1726\n",
      "Epoch 3/10\n",
      "30/30 [==============================] - 13s 442ms/step - loss: 0.2062 - accuracy: 0.1680 - val_loss: 0.2034 - val_accuracy: 0.1790\n",
      "Epoch 4/10\n",
      "30/30 [==============================] - 13s 441ms/step - loss: 0.2015 - accuracy: 0.1800 - val_loss: 0.2002 - val_accuracy: 0.1869\n",
      "Epoch 5/10\n",
      "30/30 [==============================] - 13s 443ms/step - loss: 0.1978 - accuracy: 0.1908 - val_loss: 0.1950 - val_accuracy: 0.1907\n",
      "Epoch 6/10\n",
      "30/30 [==============================] - 13s 448ms/step - loss: 0.1914 - accuracy: 0.2125 - val_loss: 0.1881 - val_accuracy: 0.1816\n",
      "Epoch 7/10\n",
      "30/30 [==============================] - 14s 462ms/step - loss: 0.1857 - accuracy: 0.2221 - val_loss: 0.1818 - val_accuracy: 0.2480\n",
      "Epoch 8/10\n",
      "30/30 [==============================] - 14s 455ms/step - loss: 0.1813 - accuracy: 0.2390 - val_loss: 0.1800 - val_accuracy: 0.2061\n",
      "Epoch 9/10\n",
      "30/30 [==============================] - 13s 441ms/step - loss: 0.1778 - accuracy: 0.2351 - val_loss: 0.1743 - val_accuracy: 0.2544\n",
      "Epoch 10/10\n",
      "30/30 [==============================] - 15s 492ms/step - loss: 0.1734 - accuracy: 0.2541 - val_loss: 0.1701 - val_accuracy: 0.2730\n",
      "Train Macro:\n",
      "precision    0.917999\n",
      "recall       0.046683\n",
      "f1           0.063665\n",
      "dtype: float64\n",
      "\n",
      "Validation Macro:\n",
      "precision    0.911365\n",
      "recall       0.048892\n",
      "f1           0.066421\n",
      "dtype: float64\n",
      "CPU times: user 7min 40s, sys: 4min 54s, total: 12min 35s\n",
      "Wall time: 3min 12s\n"
     ]
    }
   ],
   "source": [
    "%%time\n",
    "\n",
    "vocab_size = 5000\n",
    "input_length = 10000\n",
    "exp = experiment(\n",
    "    NameAndReviewTextFeaturizer(max_vocab_size=vocab_size, max_length=input_length),\n",
    "    DenseTextualModel(\n",
    "        vocab_size=vocab_size, input_length=input_length,\n",
    "        embedding_dimension=50, hidden_dimension=30, num_classes=NUM_CLASSES,\n",
    "        learning_rate=0.01, epochs=10, batch_size=256),\n",
    "    MultiLabelBinarizer(),\n",
    "    train_examples, train_label_sets,\n",
    "    validation_examples, validation_label_sets\n",
    ")"
   ]
  },
  {
   "cell_type": "code",
   "execution_count": null,
   "metadata": {},
   "outputs": [],
   "source": [
    "featurizer = NameAndReviewTextFeaturizer(max_vocab_size=vocab_size, max_length=input_length)\n",
    "featurizer.fit(train_examples)\n",
    "train_features = featurizer.transform(train_examples)\n",
    "validation_features = featurizer.transform(validation_examples)"
   ]
  },
  {
   "cell_type": "code",
   "execution_count": null,
   "metadata": {},
   "outputs": [],
   "source": [
    "dense_experiment = model_experiment(\n",
    "    featurizer,\n",
    "    DenseTextualModel(\n",
    "        vocab_size=vocab_size, input_length=input_length,\n",
    "        embedding_dimension=50, hidden_dimension=50, num_classes=NUM_CLASSES,\n",
    "        learning_rate=0.01, epochs=200, batch_size=256\n",
    "    ),\n",
    "    labelizer,\n",
    "    train_features,\n",
    "    train_label_sets, validation_features, validation_label_sets, \n",
    ")"
   ]
  },
  {
   "cell_type": "code",
   "execution_count": null,
   "metadata": {},
   "outputs": [],
   "source": [
    "train_labels = labelizer.transform(train_label_sets)\n",
    "validation_labels = labelizer.transform(validation_label_sets)"
   ]
  },
  {
   "cell_type": "code",
   "execution_count": null,
   "metadata": {},
   "outputs": [],
   "source": [
    "rnn_experiment = model_experiment(\n",
    "    featurizer,\n",
    "    RnnTextualModel(\n",
    "        vocab_size=vocab_size, input_length=input_length,\n",
    "        embedding_dimension=50, rnn_dimension=30, num_classes=NUM_CLASSES,\n",
    "        learning_rate=0.01, epochs=1, batch_size=256\n",
    "    ),\n",
    "    labelizer,\n",
    "    train_features,\n",
    "    train_label_sets, validation_features, validation_label_sets, \n",
    ")"
   ]
  }
 ],
 "metadata": {
  "kernelspec": {
   "display_name": "Python 3",
   "language": "python",
   "name": "python3"
  },
  "language_info": {
   "codemirror_mode": {
    "name": "ipython",
    "version": 3
   },
   "file_extension": ".py",
   "mimetype": "text/x-python",
   "name": "python",
   "nbconvert_exporter": "python",
   "pygments_lexer": "ipython3",
   "version": "3.7.4"
  }
 },
 "nbformat": 4,
 "nbformat_minor": 2
}
